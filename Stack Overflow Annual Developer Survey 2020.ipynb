{
 "cells": [
  {
   "cell_type": "markdown",
   "source": [
    "# Introduction\n",
    "- Import Dataset\n",
    "- Download Data\n",
    "- Import OS\n",
    "- Import Pandas\n",
    "- Read Data\n",
    "- Describe Columns"
   ],
   "metadata": {
    "collapsed": false
   },
   "id": "47b51d552b3ad174"
  },
  {
   "cell_type": "code",
   "execution_count": 2,
   "outputs": [
    {
     "name": "stdout",
     "output_type": "stream",
     "text": [
      "Collecting opendatasets\n",
      "  Using cached opendatasets-0.1.22-py3-none-any.whl (15 kB)\n",
      "Collecting tqdm (from opendatasets)\n",
      "  Obtaining dependency information for tqdm from https://files.pythonhosted.org/packages/00/e5/f12a80907d0884e6dff9c16d0c0114d81b8cd07dc3ae54c5e962cc83037e/tqdm-4.66.1-py3-none-any.whl.metadata\n",
      "  Using cached tqdm-4.66.1-py3-none-any.whl.metadata (57 kB)\n",
      "Collecting kaggle (from opendatasets)\n",
      "  Using cached kaggle-1.5.16.tar.gz (83 kB)\n",
      "  Installing build dependencies: started\n",
      "  Installing build dependencies: finished with status 'done'\n",
      "  Getting requirements to build wheel: started\n",
      "  Getting requirements to build wheel: finished with status 'done'\n",
      "  Preparing metadata (pyproject.toml): started\n",
      "  Preparing metadata (pyproject.toml): finished with status 'done'\n",
      "Collecting click (from opendatasets)\n",
      "  Obtaining dependency information for click from https://files.pythonhosted.org/packages/00/2e/d53fa4befbf2cfa713304affc7ca780ce4fc1fd8710527771b58311a3229/click-8.1.7-py3-none-any.whl.metadata\n",
      "  Downloading click-8.1.7-py3-none-any.whl.metadata (3.0 kB)\n",
      "Requirement already satisfied: colorama in c:\\users\\rsars\\appdata\\local\\programs\\python\\python310\\lib\\site-packages (from click->opendatasets) (0.4.6)\n",
      "Requirement already satisfied: six>=1.10 in c:\\users\\rsars\\appdata\\local\\programs\\python\\python310\\lib\\site-packages (from kaggle->opendatasets) (1.16.0)\n",
      "Collecting certifi (from kaggle->opendatasets)\n",
      "  Obtaining dependency information for certifi from https://files.pythonhosted.org/packages/4c/dd/2234eab22353ffc7d94e8d13177aaa050113286e93e7b40eae01fbf7c3d9/certifi-2023.7.22-py3-none-any.whl.metadata\n",
      "  Downloading certifi-2023.7.22-py3-none-any.whl.metadata (2.2 kB)\n",
      "Requirement already satisfied: python-dateutil in c:\\users\\rsars\\appdata\\local\\programs\\python\\python310\\lib\\site-packages (from kaggle->opendatasets) (2.8.2)\n",
      "Collecting requests (from kaggle->opendatasets)\n",
      "  Obtaining dependency information for requests from https://files.pythonhosted.org/packages/70/8e/0e2d847013cb52cd35b38c009bb167a1a26b2ce6cd6965bf26b47bc0bf44/requests-2.31.0-py3-none-any.whl.metadata\n",
      "  Downloading requests-2.31.0-py3-none-any.whl.metadata (4.6 kB)\n",
      "Collecting python-slugify (from kaggle->opendatasets)\n",
      "  Using cached python_slugify-8.0.1-py2.py3-none-any.whl (9.7 kB)\n",
      "Collecting urllib3 (from kaggle->opendatasets)\n",
      "  Obtaining dependency information for urllib3 from https://files.pythonhosted.org/packages/9b/81/62fd61001fa4b9d0df6e31d47ff49cfa9de4af03adecf339c7bc30656b37/urllib3-2.0.4-py3-none-any.whl.metadata\n",
      "  Downloading urllib3-2.0.4-py3-none-any.whl.metadata (6.6 kB)\n",
      "Requirement already satisfied: bleach in c:\\users\\rsars\\appdata\\local\\programs\\python\\python310\\lib\\site-packages (from kaggle->opendatasets) (6.0.0)\n",
      "Requirement already satisfied: webencodings in c:\\users\\rsars\\appdata\\local\\programs\\python\\python310\\lib\\site-packages (from bleach->kaggle->opendatasets) (0.5.1)\n",
      "Collecting text-unidecode>=1.3 (from python-slugify->kaggle->opendatasets)\n",
      "  Using cached text_unidecode-1.3-py2.py3-none-any.whl (78 kB)\n",
      "Collecting charset-normalizer<4,>=2 (from requests->kaggle->opendatasets)\n",
      "  Obtaining dependency information for charset-normalizer<4,>=2 from https://files.pythonhosted.org/packages/5c/f2/f3faa20684729d3910af2ee142e30432c7a46a817eadeeab87366ed87bbb/charset_normalizer-3.2.0-cp310-cp310-win_amd64.whl.metadata\n",
      "  Downloading charset_normalizer-3.2.0-cp310-cp310-win_amd64.whl.metadata (31 kB)\n",
      "Requirement already satisfied: idna<4,>=2.5 in c:\\users\\rsars\\appdata\\local\\programs\\python\\python310\\lib\\site-packages (from requests->kaggle->opendatasets) (3.4)\n",
      "Using cached click-8.1.7-py3-none-any.whl (97 kB)\n",
      "Using cached tqdm-4.66.1-py3-none-any.whl (78 kB)\n",
      "Using cached certifi-2023.7.22-py3-none-any.whl (158 kB)\n",
      "Using cached requests-2.31.0-py3-none-any.whl (62 kB)\n",
      "Using cached urllib3-2.0.4-py3-none-any.whl (123 kB)\n",
      "Using cached charset_normalizer-3.2.0-cp310-cp310-win_amd64.whl (96 kB)\n",
      "Building wheels for collected packages: kaggle\n",
      "  Building wheel for kaggle (pyproject.toml): started\n",
      "  Building wheel for kaggle (pyproject.toml): finished with status 'done'\n",
      "  Created wheel for kaggle: filename=kaggle-1.5.16-py3-none-any.whl size=110693 sha256=03fec924432e1d6abfbb05a8b5d24e75246c98c318b1ee973a397992d5a279d6\n",
      "  Stored in directory: c:\\users\\rsars\\appdata\\local\\pip\\cache\\wheels\\43\\4b\\fb\\736478af5e8004810081a06259f9aa2f7c3329fc5d03c2c412\n",
      "Successfully built kaggle\n",
      "Installing collected packages: text-unidecode, urllib3, tqdm, python-slugify, click, charset-normalizer, certifi, requests, kaggle, opendatasets\n",
      "Successfully installed certifi-2023.7.22 charset-normalizer-3.2.0 click-8.1.7 kaggle-1.5.16 opendatasets-0.1.22 python-slugify-8.0.1 requests-2.31.0 text-unidecode-1.3 tqdm-4.66.1 urllib3-2.0.4\n"
     ]
    }
   ],
   "source": [
    "!pip install opendatasets"
   ],
   "metadata": {
    "collapsed": false,
    "ExecuteTime": {
     "end_time": "2023-09-06T14:18:23.781754700Z",
     "start_time": "2023-09-06T14:18:16.573283700Z"
    }
   },
   "id": "8de316d0ede7ca8"
  },
  {
   "cell_type": "code",
   "execution_count": 3,
   "outputs": [],
   "source": [
    "import opendatasets as od"
   ],
   "metadata": {
    "collapsed": false,
    "ExecuteTime": {
     "end_time": "2023-09-06T14:52:20.860601Z",
     "start_time": "2023-09-06T14:52:20.831129900Z"
    }
   },
   "id": "df24cc22cd033a27"
  },
  {
   "cell_type": "code",
   "execution_count": 6,
   "outputs": [
    {
     "name": "stdout",
     "output_type": "stream",
     "text": [
      "Downloading https://raw.githubusercontent.com/JovianML/opendatasets/master/data/stackoverflow-developer-survey-2020/survey_results_public.csv to .\\stackoverflow-developer-survey-2020\\survey_results_public.csv\n"
     ]
    },
    {
     "name": "stderr",
     "output_type": "stream",
     "text": [
      "94609408it [00:16, 5861087.72it/s]                               \n"
     ]
    },
    {
     "name": "stdout",
     "output_type": "stream",
     "text": [
      "Downloading https://raw.githubusercontent.com/JovianML/opendatasets/master/data/stackoverflow-developer-survey-2020/survey_results_schema.csv to .\\stackoverflow-developer-survey-2020\\survey_results_schema.csv\n"
     ]
    },
    {
     "name": "stderr",
     "output_type": "stream",
     "text": [
      "16384it [00:00, 27259.66it/s]           \n"
     ]
    },
    {
     "name": "stdout",
     "output_type": "stream",
     "text": [
      "Downloading https://raw.githubusercontent.com/JovianML/opendatasets/master/data/stackoverflow-developer-survey-2020/README.txt to .\\stackoverflow-developer-survey-2020\\README.txt\n"
     ]
    },
    {
     "name": "stderr",
     "output_type": "stream",
     "text": [
      "8192it [00:01, 5013.30it/s]             \n"
     ]
    }
   ],
   "source": [
    "od.download('stackoverflow-developer-survey-2020')"
   ],
   "metadata": {
    "collapsed": false,
    "ExecuteTime": {
     "end_time": "2023-09-06T14:55:15.486714700Z",
     "start_time": "2023-09-06T14:54:57.065558100Z"
    }
   },
   "id": "8f9a4a087d1d1e40"
  },
  {
   "cell_type": "code",
   "execution_count": 4,
   "outputs": [],
   "source": [
    "import os"
   ],
   "metadata": {
    "collapsed": false,
    "ExecuteTime": {
     "end_time": "2023-09-06T14:52:32.637369Z",
     "start_time": "2023-09-06T14:52:32.621316100Z"
    }
   },
   "id": "54edcb2f515016c5"
  },
  {
   "cell_type": "code",
   "execution_count": 7,
   "outputs": [
    {
     "data": {
      "text/plain": "['README.txt', 'survey_results_public.csv', 'survey_results_schema.csv']"
     },
     "execution_count": 7,
     "metadata": {},
     "output_type": "execute_result"
    }
   ],
   "source": [
    "os.listdir('stackoverflow-developer-survey-2020')"
   ],
   "metadata": {
    "collapsed": false,
    "ExecuteTime": {
     "end_time": "2023-09-06T14:55:33.735710500Z",
     "start_time": "2023-09-06T14:55:33.719326800Z"
    }
   },
   "id": "ae747b1acb944fb9"
  },
  {
   "cell_type": "code",
   "execution_count": 8,
   "outputs": [],
   "source": [
    "import pandas as pd"
   ],
   "metadata": {
    "collapsed": false,
    "ExecuteTime": {
     "end_time": "2023-09-06T14:56:45.545552200Z",
     "start_time": "2023-09-06T14:56:44.907177600Z"
    }
   },
   "id": "20341d8e2c0c9dfb"
  },
  {
   "cell_type": "code",
   "execution_count": 9,
   "outputs": [],
   "source": [
    "survey_raw_df = pd.read_csv('stackoverflow-developer-survey-2020/survey_results_public.csv')"
   ],
   "metadata": {
    "collapsed": false,
    "ExecuteTime": {
     "end_time": "2023-09-06T14:57:43.061232400Z",
     "start_time": "2023-09-06T14:57:41.827763600Z"
    }
   },
   "id": "d0e63ce0ed531b41"
  },
  {
   "cell_type": "code",
   "execution_count": 10,
   "outputs": [
    {
     "data": {
      "text/plain": "       Respondent                                         MainBranch Hobbyist  \\\n0               1                     I am a developer by profession      Yes   \n1               2                     I am a developer by profession       No   \n2               3                        I code primarily as a hobby      Yes   \n3               4                     I am a developer by profession      Yes   \n4               5  I used to be a developer by profession, but no...      Yes   \n...           ...                                                ...      ...   \n64456       64858                                                NaN      Yes   \n64457       64867                                                NaN      Yes   \n64458       64898                                                NaN      Yes   \n64459       64925                                                NaN      Yes   \n64460       65112                                                NaN      Yes   \n\n        Age Age1stCode CompFreq  CompTotal  ConvertedComp             Country  \\\n0       NaN         13  Monthly        NaN            NaN             Germany   \n1       NaN         19      NaN        NaN            NaN      United Kingdom   \n2       NaN         15      NaN        NaN            NaN  Russian Federation   \n3      25.0         18      NaN        NaN            NaN             Albania   \n4      31.0         16      NaN        NaN            NaN       United States   \n...     ...        ...      ...        ...            ...                 ...   \n64456   NaN         16      NaN        NaN            NaN       United States   \n64457   NaN        NaN      NaN        NaN            NaN             Morocco   \n64458   NaN        NaN      NaN        NaN            NaN            Viet Nam   \n64459   NaN        NaN      NaN        NaN            NaN              Poland   \n64460   NaN        NaN      NaN        NaN            NaN               Spain   \n\n         CurrencyDesc  ...                  SurveyEase           SurveyLength  \\\n0       European Euro  ...  Neither easy nor difficult  Appropriate in length   \n1      Pound sterling  ...                         NaN                    NaN   \n2                 NaN  ...  Neither easy nor difficult  Appropriate in length   \n3        Albanian lek  ...                         NaN                    NaN   \n4                 NaN  ...                        Easy              Too short   \n...               ...  ...                         ...                    ...   \n64456             NaN  ...                         NaN                    NaN   \n64457             NaN  ...                         NaN                    NaN   \n64458             NaN  ...                         NaN                    NaN   \n64459             NaN  ...                         NaN                    NaN   \n64460             NaN  ...                         NaN                    NaN   \n\n      Trans                                     UndergradMajor  \\\n0        No  Computer science, computer engineering, or sof...   \n1       NaN  Computer science, computer engineering, or sof...   \n2       NaN                                                NaN   \n3        No  Computer science, computer engineering, or sof...   \n4        No  Computer science, computer engineering, or sof...   \n...     ...                                                ...   \n64456   NaN  Computer science, computer engineering, or sof...   \n64457   NaN                                                NaN   \n64458   NaN                                                NaN   \n64459   NaN                                                NaN   \n64460   NaN  Computer science, computer engineering, or sof...   \n\n            WebframeDesireNextYear                      WebframeWorkedWith  \\\n0                     ASP.NET Core                    ASP.NET;ASP.NET Core   \n1                              NaN                                     NaN   \n2                              NaN                                     NaN   \n3                              NaN                                     NaN   \n4             Django;Ruby on Rails                           Ruby on Rails   \n...                            ...                                     ...   \n64456                          NaN                                     NaN   \n64457                          NaN                                     NaN   \n64458                          NaN                                     NaN   \n64459  Angular;Angular.js;React.js                                     NaN   \n64460          ASP.NET Core;jQuery  Angular;Angular.js;ASP.NET Core;jQuery   \n\n                                  WelcomeChange WorkWeekHrs YearsCode  \\\n0       Just as welcome now as I felt last year        50.0        36   \n1      Somewhat more welcome now than last year         NaN         7   \n2      Somewhat more welcome now than last year         NaN         4   \n3      Somewhat less welcome now than last year        40.0         7   \n4       Just as welcome now as I felt last year         NaN        15   \n...                                         ...         ...       ...   \n64456                                       NaN         NaN        10   \n64457                                       NaN         NaN       NaN   \n64458                                       NaN         NaN       NaN   \n64459                                       NaN         NaN       NaN   \n64460                                       NaN         NaN       NaN   \n\n           YearsCodePro  \n0                    27  \n1                     4  \n2                   NaN  \n3                     4  \n4                     8  \n...                 ...  \n64456  Less than 1 year  \n64457               NaN  \n64458               NaN  \n64459               NaN  \n64460               NaN  \n\n[64461 rows x 61 columns]",
      "text/html": "<div>\n<style scoped>\n    .dataframe tbody tr th:only-of-type {\n        vertical-align: middle;\n    }\n\n    .dataframe tbody tr th {\n        vertical-align: top;\n    }\n\n    .dataframe thead th {\n        text-align: right;\n    }\n</style>\n<table border=\"1\" class=\"dataframe\">\n  <thead>\n    <tr style=\"text-align: right;\">\n      <th></th>\n      <th>Respondent</th>\n      <th>MainBranch</th>\n      <th>Hobbyist</th>\n      <th>Age</th>\n      <th>Age1stCode</th>\n      <th>CompFreq</th>\n      <th>CompTotal</th>\n      <th>ConvertedComp</th>\n      <th>Country</th>\n      <th>CurrencyDesc</th>\n      <th>...</th>\n      <th>SurveyEase</th>\n      <th>SurveyLength</th>\n      <th>Trans</th>\n      <th>UndergradMajor</th>\n      <th>WebframeDesireNextYear</th>\n      <th>WebframeWorkedWith</th>\n      <th>WelcomeChange</th>\n      <th>WorkWeekHrs</th>\n      <th>YearsCode</th>\n      <th>YearsCodePro</th>\n    </tr>\n  </thead>\n  <tbody>\n    <tr>\n      <th>0</th>\n      <td>1</td>\n      <td>I am a developer by profession</td>\n      <td>Yes</td>\n      <td>NaN</td>\n      <td>13</td>\n      <td>Monthly</td>\n      <td>NaN</td>\n      <td>NaN</td>\n      <td>Germany</td>\n      <td>European Euro</td>\n      <td>...</td>\n      <td>Neither easy nor difficult</td>\n      <td>Appropriate in length</td>\n      <td>No</td>\n      <td>Computer science, computer engineering, or sof...</td>\n      <td>ASP.NET Core</td>\n      <td>ASP.NET;ASP.NET Core</td>\n      <td>Just as welcome now as I felt last year</td>\n      <td>50.0</td>\n      <td>36</td>\n      <td>27</td>\n    </tr>\n    <tr>\n      <th>1</th>\n      <td>2</td>\n      <td>I am a developer by profession</td>\n      <td>No</td>\n      <td>NaN</td>\n      <td>19</td>\n      <td>NaN</td>\n      <td>NaN</td>\n      <td>NaN</td>\n      <td>United Kingdom</td>\n      <td>Pound sterling</td>\n      <td>...</td>\n      <td>NaN</td>\n      <td>NaN</td>\n      <td>NaN</td>\n      <td>Computer science, computer engineering, or sof...</td>\n      <td>NaN</td>\n      <td>NaN</td>\n      <td>Somewhat more welcome now than last year</td>\n      <td>NaN</td>\n      <td>7</td>\n      <td>4</td>\n    </tr>\n    <tr>\n      <th>2</th>\n      <td>3</td>\n      <td>I code primarily as a hobby</td>\n      <td>Yes</td>\n      <td>NaN</td>\n      <td>15</td>\n      <td>NaN</td>\n      <td>NaN</td>\n      <td>NaN</td>\n      <td>Russian Federation</td>\n      <td>NaN</td>\n      <td>...</td>\n      <td>Neither easy nor difficult</td>\n      <td>Appropriate in length</td>\n      <td>NaN</td>\n      <td>NaN</td>\n      <td>NaN</td>\n      <td>NaN</td>\n      <td>Somewhat more welcome now than last year</td>\n      <td>NaN</td>\n      <td>4</td>\n      <td>NaN</td>\n    </tr>\n    <tr>\n      <th>3</th>\n      <td>4</td>\n      <td>I am a developer by profession</td>\n      <td>Yes</td>\n      <td>25.0</td>\n      <td>18</td>\n      <td>NaN</td>\n      <td>NaN</td>\n      <td>NaN</td>\n      <td>Albania</td>\n      <td>Albanian lek</td>\n      <td>...</td>\n      <td>NaN</td>\n      <td>NaN</td>\n      <td>No</td>\n      <td>Computer science, computer engineering, or sof...</td>\n      <td>NaN</td>\n      <td>NaN</td>\n      <td>Somewhat less welcome now than last year</td>\n      <td>40.0</td>\n      <td>7</td>\n      <td>4</td>\n    </tr>\n    <tr>\n      <th>4</th>\n      <td>5</td>\n      <td>I used to be a developer by profession, but no...</td>\n      <td>Yes</td>\n      <td>31.0</td>\n      <td>16</td>\n      <td>NaN</td>\n      <td>NaN</td>\n      <td>NaN</td>\n      <td>United States</td>\n      <td>NaN</td>\n      <td>...</td>\n      <td>Easy</td>\n      <td>Too short</td>\n      <td>No</td>\n      <td>Computer science, computer engineering, or sof...</td>\n      <td>Django;Ruby on Rails</td>\n      <td>Ruby on Rails</td>\n      <td>Just as welcome now as I felt last year</td>\n      <td>NaN</td>\n      <td>15</td>\n      <td>8</td>\n    </tr>\n    <tr>\n      <th>...</th>\n      <td>...</td>\n      <td>...</td>\n      <td>...</td>\n      <td>...</td>\n      <td>...</td>\n      <td>...</td>\n      <td>...</td>\n      <td>...</td>\n      <td>...</td>\n      <td>...</td>\n      <td>...</td>\n      <td>...</td>\n      <td>...</td>\n      <td>...</td>\n      <td>...</td>\n      <td>...</td>\n      <td>...</td>\n      <td>...</td>\n      <td>...</td>\n      <td>...</td>\n      <td>...</td>\n    </tr>\n    <tr>\n      <th>64456</th>\n      <td>64858</td>\n      <td>NaN</td>\n      <td>Yes</td>\n      <td>NaN</td>\n      <td>16</td>\n      <td>NaN</td>\n      <td>NaN</td>\n      <td>NaN</td>\n      <td>United States</td>\n      <td>NaN</td>\n      <td>...</td>\n      <td>NaN</td>\n      <td>NaN</td>\n      <td>NaN</td>\n      <td>Computer science, computer engineering, or sof...</td>\n      <td>NaN</td>\n      <td>NaN</td>\n      <td>NaN</td>\n      <td>NaN</td>\n      <td>10</td>\n      <td>Less than 1 year</td>\n    </tr>\n    <tr>\n      <th>64457</th>\n      <td>64867</td>\n      <td>NaN</td>\n      <td>Yes</td>\n      <td>NaN</td>\n      <td>NaN</td>\n      <td>NaN</td>\n      <td>NaN</td>\n      <td>NaN</td>\n      <td>Morocco</td>\n      <td>NaN</td>\n      <td>...</td>\n      <td>NaN</td>\n      <td>NaN</td>\n      <td>NaN</td>\n      <td>NaN</td>\n      <td>NaN</td>\n      <td>NaN</td>\n      <td>NaN</td>\n      <td>NaN</td>\n      <td>NaN</td>\n      <td>NaN</td>\n    </tr>\n    <tr>\n      <th>64458</th>\n      <td>64898</td>\n      <td>NaN</td>\n      <td>Yes</td>\n      <td>NaN</td>\n      <td>NaN</td>\n      <td>NaN</td>\n      <td>NaN</td>\n      <td>NaN</td>\n      <td>Viet Nam</td>\n      <td>NaN</td>\n      <td>...</td>\n      <td>NaN</td>\n      <td>NaN</td>\n      <td>NaN</td>\n      <td>NaN</td>\n      <td>NaN</td>\n      <td>NaN</td>\n      <td>NaN</td>\n      <td>NaN</td>\n      <td>NaN</td>\n      <td>NaN</td>\n    </tr>\n    <tr>\n      <th>64459</th>\n      <td>64925</td>\n      <td>NaN</td>\n      <td>Yes</td>\n      <td>NaN</td>\n      <td>NaN</td>\n      <td>NaN</td>\n      <td>NaN</td>\n      <td>NaN</td>\n      <td>Poland</td>\n      <td>NaN</td>\n      <td>...</td>\n      <td>NaN</td>\n      <td>NaN</td>\n      <td>NaN</td>\n      <td>NaN</td>\n      <td>Angular;Angular.js;React.js</td>\n      <td>NaN</td>\n      <td>NaN</td>\n      <td>NaN</td>\n      <td>NaN</td>\n      <td>NaN</td>\n    </tr>\n    <tr>\n      <th>64460</th>\n      <td>65112</td>\n      <td>NaN</td>\n      <td>Yes</td>\n      <td>NaN</td>\n      <td>NaN</td>\n      <td>NaN</td>\n      <td>NaN</td>\n      <td>NaN</td>\n      <td>Spain</td>\n      <td>NaN</td>\n      <td>...</td>\n      <td>NaN</td>\n      <td>NaN</td>\n      <td>NaN</td>\n      <td>Computer science, computer engineering, or sof...</td>\n      <td>ASP.NET Core;jQuery</td>\n      <td>Angular;Angular.js;ASP.NET Core;jQuery</td>\n      <td>NaN</td>\n      <td>NaN</td>\n      <td>NaN</td>\n      <td>NaN</td>\n    </tr>\n  </tbody>\n</table>\n<p>64461 rows × 61 columns</p>\n</div>"
     },
     "execution_count": 10,
     "metadata": {},
     "output_type": "execute_result"
    }
   ],
   "source": [
    "survey_raw_df"
   ],
   "metadata": {
    "collapsed": false,
    "ExecuteTime": {
     "end_time": "2023-09-06T14:58:03.417441400Z",
     "start_time": "2023-09-06T14:58:03.359127800Z"
    }
   },
   "id": "2601cf141a5b1bce"
  },
  {
   "cell_type": "code",
   "execution_count": 11,
   "outputs": [
    {
     "data": {
      "text/plain": "Index(['Respondent', 'MainBranch', 'Hobbyist', 'Age', 'Age1stCode', 'CompFreq',\n       'CompTotal', 'ConvertedComp', 'Country', 'CurrencyDesc',\n       'CurrencySymbol', 'DatabaseDesireNextYear', 'DatabaseWorkedWith',\n       'DevType', 'EdLevel', 'Employment', 'Ethnicity', 'Gender', 'JobFactors',\n       'JobSat', 'JobSeek', 'LanguageDesireNextYear', 'LanguageWorkedWith',\n       'MiscTechDesireNextYear', 'MiscTechWorkedWith',\n       'NEWCollabToolsDesireNextYear', 'NEWCollabToolsWorkedWith', 'NEWDevOps',\n       'NEWDevOpsImpt', 'NEWEdImpt', 'NEWJobHunt', 'NEWJobHuntResearch',\n       'NEWLearn', 'NEWOffTopic', 'NEWOnboardGood', 'NEWOtherComms',\n       'NEWOvertime', 'NEWPurchaseResearch', 'NEWPurpleLink', 'NEWSOSites',\n       'NEWStuck', 'OpSys', 'OrgSize', 'PlatformDesireNextYear',\n       'PlatformWorkedWith', 'PurchaseWhat', 'Sexuality', 'SOAccount',\n       'SOComm', 'SOPartFreq', 'SOVisitFreq', 'SurveyEase', 'SurveyLength',\n       'Trans', 'UndergradMajor', 'WebframeDesireNextYear',\n       'WebframeWorkedWith', 'WelcomeChange', 'WorkWeekHrs', 'YearsCode',\n       'YearsCodePro'],\n      dtype='object')"
     },
     "execution_count": 11,
     "metadata": {},
     "output_type": "execute_result"
    }
   ],
   "source": [
    "survey_raw_df.columns"
   ],
   "metadata": {
    "collapsed": false,
    "ExecuteTime": {
     "end_time": "2023-09-06T14:58:24.818381Z",
     "start_time": "2023-09-06T14:58:24.741799900Z"
    }
   },
   "id": "f046e0819817ecad"
  },
  {
   "cell_type": "code",
   "execution_count": 12,
   "outputs": [],
   "source": [
    "schema_fname = 'stackoverflow-developer-survey-2020/survey_results_schema.csv'\n",
    "schema_raw = pd.read_csv(schema_fname, index_col='Column').QuestionText"
   ],
   "metadata": {
    "collapsed": false,
    "ExecuteTime": {
     "end_time": "2023-09-06T15:27:44.912402800Z",
     "start_time": "2023-09-06T15:27:44.897487100Z"
    }
   },
   "id": "3bc5e3402819945a"
  },
  {
   "cell_type": "code",
   "execution_count": 13,
   "outputs": [
    {
     "data": {
      "text/plain": "Column\nRespondent            Randomized respondent ID number (not in order ...\nMainBranch            Which of the following options best describes ...\nHobbyist                                        Do you code as a hobby?\nAge                   What is your age (in years)? If you prefer not...\nAge1stCode            At what age did you write your first line of c...\n                                            ...                        \nWebframeWorkedWith    Which web frameworks have you done extensive d...\nWelcomeChange         Compared to last year, how welcome do you feel...\nWorkWeekHrs           On average, how many hours per week do you wor...\nYearsCode             Including any education, how many years have y...\nYearsCodePro          NOT including education, how many years have y...\nName: QuestionText, Length: 61, dtype: object"
     },
     "execution_count": 13,
     "metadata": {},
     "output_type": "execute_result"
    }
   ],
   "source": [
    "schema_raw"
   ],
   "metadata": {
    "collapsed": false,
    "ExecuteTime": {
     "end_time": "2023-09-06T15:27:50.223967900Z",
     "start_time": "2023-09-06T15:27:50.178529600Z"
    }
   },
   "id": "2c8cac18500ef742"
  },
  {
   "cell_type": "code",
   "execution_count": 14,
   "outputs": [
    {
     "data": {
      "text/plain": "'NOT including education, how many years have you coded professionally (as a part of your work)?'"
     },
     "execution_count": 14,
     "metadata": {},
     "output_type": "execute_result"
    }
   ],
   "source": [
    "schema_raw['YearsCodePro']"
   ],
   "metadata": {
    "collapsed": false,
    "ExecuteTime": {
     "end_time": "2023-09-06T15:28:50.147263900Z",
     "start_time": "2023-09-06T15:28:50.103140Z"
    }
   },
   "id": "dc50800f40a8b4dc"
  },
  {
   "cell_type": "markdown",
   "source": [
    "# Data Preparation and Cleaning\n",
    "- Column selection\n",
    "- New dataframe extraction\n",
    "- Dataframe exploration\n",
    "- Numpy import\n",
    "- Handling missing data "
   ],
   "metadata": {
    "collapsed": false
   },
   "id": "cc49a2b34d47d2bf"
  },
  {
   "cell_type": "code",
   "execution_count": 15,
   "outputs": [],
   "source": [
    "selected_columns = [\n",
    "    # Demographics\n",
    "    'Country',\n",
    "    'Age',\n",
    "    'Gender',\n",
    "    'EdLevel',\n",
    "    'UndergradMajor',\n",
    "    # Programming experience\n",
    "    'Hobbyist',\n",
    "    'Age1stCode',\n",
    "    'YearsCode',\n",
    "    'YearsCodePro',\n",
    "    'LanguageWorkedWith',\n",
    "    'LanguageDesireNextYear',\n",
    "    'NEWLearn',\n",
    "    'NEWStuck',\n",
    "    # Employment\n",
    "    'Employment',\n",
    "    'DevType',\n",
    "    'WorkWeekHrs',\n",
    "    'JobSat',\n",
    "    'JobFactors',\n",
    "    'NEWOvertime',\n",
    "    'NEWEdImpt'\n",
    "]"
   ],
   "metadata": {
    "collapsed": false,
    "ExecuteTime": {
     "end_time": "2023-09-06T17:55:06.527771900Z",
     "start_time": "2023-09-06T17:55:06.516229200Z"
    }
   },
   "id": "d8f5d0c3ec10c1da"
  },
  {
   "cell_type": "code",
   "execution_count": 16,
   "outputs": [
    {
     "data": {
      "text/plain": "20"
     },
     "execution_count": 16,
     "metadata": {},
     "output_type": "execute_result"
    }
   ],
   "source": [
    "len(selected_columns)"
   ],
   "metadata": {
    "collapsed": false,
    "ExecuteTime": {
     "end_time": "2023-09-06T17:55:40.121558100Z",
     "start_time": "2023-09-06T17:55:40.100901400Z"
    }
   },
   "id": "db9aa392f7591c0"
  },
  {
   "cell_type": "code",
   "execution_count": 17,
   "outputs": [],
   "source": [
    "survey_df = survey_raw_df[selected_columns].copy()"
   ],
   "metadata": {
    "collapsed": false,
    "ExecuteTime": {
     "end_time": "2023-09-06T17:55:59.156626800Z",
     "start_time": "2023-09-06T17:55:59.118537300Z"
    }
   },
   "id": "cf23516027add343"
  },
  {
   "cell_type": "code",
   "execution_count": 18,
   "outputs": [],
   "source": [
    "schema = schema_raw[selected_columns]"
   ],
   "metadata": {
    "collapsed": false,
    "ExecuteTime": {
     "end_time": "2023-09-06T17:56:02.221323200Z",
     "start_time": "2023-09-06T17:56:02.173273Z"
    }
   },
   "id": "d5bb9237cab1bc7f"
  },
  {
   "cell_type": "code",
   "execution_count": 19,
   "outputs": [
    {
     "data": {
      "text/plain": "(64461, 20)"
     },
     "execution_count": 19,
     "metadata": {},
     "output_type": "execute_result"
    }
   ],
   "source": [
    "survey_df.shape"
   ],
   "metadata": {
    "collapsed": false,
    "ExecuteTime": {
     "end_time": "2023-09-06T17:56:13.746466200Z",
     "start_time": "2023-09-06T17:56:13.722268300Z"
    }
   },
   "id": "dff5e06e2c4002c1"
  },
  {
   "cell_type": "code",
   "execution_count": 20,
   "outputs": [
    {
     "name": "stdout",
     "output_type": "stream",
     "text": [
      "<class 'pandas.core.frame.DataFrame'>\n",
      "RangeIndex: 64461 entries, 0 to 64460\n",
      "Data columns (total 20 columns):\n",
      " #   Column                  Non-Null Count  Dtype  \n",
      "---  ------                  --------------  -----  \n",
      " 0   Country                 64072 non-null  object \n",
      " 1   Age                     45446 non-null  float64\n",
      " 2   Gender                  50557 non-null  object \n",
      " 3   EdLevel                 57431 non-null  object \n",
      " 4   UndergradMajor          50995 non-null  object \n",
      " 5   Hobbyist                64416 non-null  object \n",
      " 6   Age1stCode              57900 non-null  object \n",
      " 7   YearsCode               57684 non-null  object \n",
      " 8   YearsCodePro            46349 non-null  object \n",
      " 9   LanguageWorkedWith      57378 non-null  object \n",
      " 10  LanguageDesireNextYear  54113 non-null  object \n",
      " 11  NEWLearn                56156 non-null  object \n",
      " 12  NEWStuck                54983 non-null  object \n",
      " 13  Employment              63854 non-null  object \n",
      " 14  DevType                 49370 non-null  object \n",
      " 15  WorkWeekHrs             41151 non-null  float64\n",
      " 16  JobSat                  45194 non-null  object \n",
      " 17  JobFactors              49349 non-null  object \n",
      " 18  NEWOvertime             43231 non-null  object \n",
      " 19  NEWEdImpt               48465 non-null  object \n",
      "dtypes: float64(2), object(18)\n",
      "memory usage: 9.8+ MB\n"
     ]
    }
   ],
   "source": [
    "survey_df.info()"
   ],
   "metadata": {
    "collapsed": false,
    "ExecuteTime": {
     "end_time": "2023-09-06T17:56:25.134673600Z",
     "start_time": "2023-09-06T17:56:25.079935900Z"
    }
   },
   "id": "8ef661b7d7a31887"
  },
  {
   "cell_type": "code",
   "execution_count": 22,
   "outputs": [],
   "source": [
    "survey_df['Age1stCode'] = pd.to_numeric(survey_df.Age1stCode, errors='coerce')\n",
    "survey_df['YearsCode'] = pd.to_numeric(survey_df.YearsCode, errors='coerce')\n",
    "survey_df['YearsCodePro'] = pd.to_numeric(survey_df.YearsCodePro, errors='coerce')"
   ],
   "metadata": {
    "collapsed": false,
    "ExecuteTime": {
     "end_time": "2023-09-06T17:57:14.140030900Z",
     "start_time": "2023-09-06T17:57:14.111487300Z"
    }
   },
   "id": "e4a6bf014cece569"
  },
  {
   "cell_type": "code",
   "execution_count": 23,
   "outputs": [
    {
     "data": {
      "text/plain": "                Age    Age1stCode     YearsCode  YearsCodePro   WorkWeekHrs\ncount  45446.000000  57473.000000  56784.000000  44133.000000  41151.000000\nmean      30.834111     15.476572     12.782051      8.869667     40.782174\nstd        9.585392      5.114081      9.490657      7.759961     17.816383\nmin        1.000000      5.000000      1.000000      1.000000      1.000000\n25%       24.000000     12.000000      6.000000      3.000000     40.000000\n50%       29.000000     15.000000     10.000000      6.000000     40.000000\n75%       35.000000     18.000000     17.000000     12.000000     44.000000\nmax      279.000000     85.000000     50.000000     50.000000    475.000000",
      "text/html": "<div>\n<style scoped>\n    .dataframe tbody tr th:only-of-type {\n        vertical-align: middle;\n    }\n\n    .dataframe tbody tr th {\n        vertical-align: top;\n    }\n\n    .dataframe thead th {\n        text-align: right;\n    }\n</style>\n<table border=\"1\" class=\"dataframe\">\n  <thead>\n    <tr style=\"text-align: right;\">\n      <th></th>\n      <th>Age</th>\n      <th>Age1stCode</th>\n      <th>YearsCode</th>\n      <th>YearsCodePro</th>\n      <th>WorkWeekHrs</th>\n    </tr>\n  </thead>\n  <tbody>\n    <tr>\n      <th>count</th>\n      <td>45446.000000</td>\n      <td>57473.000000</td>\n      <td>56784.000000</td>\n      <td>44133.000000</td>\n      <td>41151.000000</td>\n    </tr>\n    <tr>\n      <th>mean</th>\n      <td>30.834111</td>\n      <td>15.476572</td>\n      <td>12.782051</td>\n      <td>8.869667</td>\n      <td>40.782174</td>\n    </tr>\n    <tr>\n      <th>std</th>\n      <td>9.585392</td>\n      <td>5.114081</td>\n      <td>9.490657</td>\n      <td>7.759961</td>\n      <td>17.816383</td>\n    </tr>\n    <tr>\n      <th>min</th>\n      <td>1.000000</td>\n      <td>5.000000</td>\n      <td>1.000000</td>\n      <td>1.000000</td>\n      <td>1.000000</td>\n    </tr>\n    <tr>\n      <th>25%</th>\n      <td>24.000000</td>\n      <td>12.000000</td>\n      <td>6.000000</td>\n      <td>3.000000</td>\n      <td>40.000000</td>\n    </tr>\n    <tr>\n      <th>50%</th>\n      <td>29.000000</td>\n      <td>15.000000</td>\n      <td>10.000000</td>\n      <td>6.000000</td>\n      <td>40.000000</td>\n    </tr>\n    <tr>\n      <th>75%</th>\n      <td>35.000000</td>\n      <td>18.000000</td>\n      <td>17.000000</td>\n      <td>12.000000</td>\n      <td>44.000000</td>\n    </tr>\n    <tr>\n      <th>max</th>\n      <td>279.000000</td>\n      <td>85.000000</td>\n      <td>50.000000</td>\n      <td>50.000000</td>\n      <td>475.000000</td>\n    </tr>\n  </tbody>\n</table>\n</div>"
     },
     "execution_count": 23,
     "metadata": {},
     "output_type": "execute_result"
    }
   ],
   "source": [
    "survey_df.describe()"
   ],
   "metadata": {
    "collapsed": false,
    "ExecuteTime": {
     "end_time": "2023-09-06T17:57:21.465089700Z",
     "start_time": "2023-09-06T17:57:21.405967700Z"
    }
   },
   "id": "ae1aa19a1571d14f"
  },
  {
   "cell_type": "code",
   "execution_count": 24,
   "outputs": [],
   "source": [
    "survey_df.drop(survey_df[survey_df.Age < 10].index, inplace=True)\n",
    "survey_df.drop(survey_df[survey_df.Age > 100].index, inplace=True)"
   ],
   "metadata": {
    "collapsed": false,
    "ExecuteTime": {
     "end_time": "2023-09-06T17:57:30.954666800Z",
     "start_time": "2023-09-06T17:57:30.904866Z"
    }
   },
   "id": "bfa5ba3168776bf1"
  },
  {
   "cell_type": "code",
   "execution_count": 25,
   "outputs": [],
   "source": [
    "survey_df.drop(survey_df[survey_df.WorkWeekHrs > 140].index, inplace=True)"
   ],
   "metadata": {
    "collapsed": false,
    "ExecuteTime": {
     "end_time": "2023-09-06T17:57:38.229262600Z",
     "start_time": "2023-09-06T17:57:38.191421600Z"
    }
   },
   "id": "2e2fc232b027b462"
  },
  {
   "cell_type": "code",
   "execution_count": 26,
   "outputs": [
    {
     "data": {
      "text/plain": "Gender\nMan                                                            45895\nWoman                                                           3835\nNon-binary, genderqueer, or gender non-conforming                385\nMan;Non-binary, genderqueer, or gender non-conforming            121\nWoman;Non-binary, genderqueer, or gender non-conforming           92\nWoman;Man                                                         73\nWoman;Man;Non-binary, genderqueer, or gender non-conforming       25\nName: count, dtype: int64"
     },
     "execution_count": 26,
     "metadata": {},
     "output_type": "execute_result"
    }
   ],
   "source": [
    "survey_df['Gender'].value_counts()"
   ],
   "metadata": {
    "collapsed": false,
    "ExecuteTime": {
     "end_time": "2023-09-06T18:02:00.820128100Z",
     "start_time": "2023-09-06T18:02:00.758727700Z"
    }
   },
   "id": "ee3fa7f29093e353"
  },
  {
   "cell_type": "code",
   "execution_count": 27,
   "outputs": [],
   "source": [
    "import numpy as np"
   ],
   "metadata": {
    "collapsed": false,
    "ExecuteTime": {
     "end_time": "2023-09-06T18:02:09.870407600Z",
     "start_time": "2023-09-06T18:02:09.820247300Z"
    }
   },
   "id": "e96618472439e108"
  },
  {
   "cell_type": "code",
   "execution_count": 28,
   "outputs": [],
   "source": [
    "survey_df.where(~(survey_df.Gender.str.contains(';', na=False)), np.nan, inplace=True)"
   ],
   "metadata": {
    "collapsed": false,
    "ExecuteTime": {
     "end_time": "2023-09-06T18:02:19.301880500Z",
     "start_time": "2023-09-06T18:02:19.235547400Z"
    }
   },
   "id": "c42dac9851f72ab6"
  },
  {
   "cell_type": "code",
   "execution_count": 30,
   "outputs": [
    {
     "data": {
      "text/plain": "             Country   Age Gender  \\\n49857  United States  26.0    Man   \n17172      Sri Lanka  23.0    Man   \n53442       Malaysia   NaN    Man   \n7010         Romania  29.0    Man   \n22674          India   NaN    Man   \n8444           India  21.0    Man   \n3093          Canada  31.0    Man   \n\n                                                 EdLevel  \\\n49857  Some college/university study without earning ...   \n17172       Bachelor’s degree (B.A., B.S., B.Eng., etc.)   \n53442       Bachelor’s degree (B.A., B.S., B.Eng., etc.)   \n7010     Master’s degree (M.A., M.S., M.Eng., MBA, etc.)   \n22674    Master’s degree (M.A., M.S., M.Eng., MBA, etc.)   \n8444        Bachelor’s degree (B.A., B.S., B.Eng., etc.)   \n3093                 Associate degree (A.A., A.S., etc.)   \n\n                                          UndergradMajor Hobbyist  Age1stCode  \\\n49857  Computer science, computer engineering, or sof...      Yes        13.0   \n17172  Computer science, computer engineering, or sof...      Yes        15.0   \n53442  Information systems, information technology, o...      Yes        18.0   \n7010   Computer science, computer engineering, or sof...       No        14.0   \n22674  Computer science, computer engineering, or sof...      Yes        20.0   \n8444   Computer science, computer engineering, or sof...      Yes        15.0   \n3093   Computer science, computer engineering, or sof...      Yes        14.0   \n\n       YearsCode  YearsCodePro                           LanguageWorkedWith  \\\n49857       13.0           5.0                                       C#;C++   \n17172        5.0           2.0  HTML/CSS;Java;JavaScript;PHP;SQL;TypeScript   \n53442        4.0           NaN             C;Java;JavaScript;Kotlin;PHP;SQL   \n7010        13.0           6.0                          HTML/CSS;JavaScript   \n22674       12.0           9.0                                   C;C++;Java   \n8444         5.0           1.0                                 C#;Go;Python   \n3093         6.0           2.0                                C#;JavaScript   \n\n                                  LanguageDesireNextYear  \\\n49857                             C#;C++;JavaScript;Rust   \n17172  Go;HTML/CSS;Java;JavaScript;Kotlin;PHP;Python;...   \n53442                              JavaScript;Kotlin;PHP   \n7010                                 HTML/CSS;JavaScript   \n22674                                             Kotlin   \n8444                                          JavaScript   \n3093                                                 C++   \n\n                   NEWLearn  \\\n49857      Every few months   \n17172           Once a year   \n53442      Every few months   \n7010   Once every few years   \n22674  Once every few years   \n8444       Every few months   \n3093            Once a year   \n\n                                                NEWStuck          Employment  \\\n49857  Call a coworker or friend;Visit Stack Overflow...  Employed full-time   \n17172  Play games;Call a coworker or friend;Visit Sta...  Employed full-time   \n53442  Visit Stack Overflow;Watch help / tutorial videos             Student   \n7010   Meditate;Call a coworker or friend;Visit Stack...  Employed full-time   \n22674                               Visit Stack Overflow  Employed full-time   \n8444      Call a coworker or friend;Visit Stack Overflow  Employed full-time   \n3093   Call a coworker or friend;Visit Stack Overflow...  Employed full-time   \n\n                                                 DevType  WorkWeekHrs  \\\n49857  Developer, back-end;Developer, front-end;Devel...         45.0   \n17172                              Developer, full-stack         40.0   \n53442                                                NaN          NaN   \n7010                                Developer, front-end         40.0   \n22674                                  Developer, mobile          NaN   \n8444   Developer, back-end;Developer, desktop or ente...         48.0   \n3093           Developer, back-end;Developer, full-stack         40.0   \n\n                                   JobSat  \\\n49857  Neither satisfied nor dissatisfied   \n17172                      Very satisfied   \n53442                                 NaN   \n7010                   Slightly satisfied   \n22674                      Very satisfied   \n8444                       Very satisfied   \n3093                   Slightly satisfied   \n\n                                              JobFactors  \\\n49857  Flex time or a flexible schedule;Languages, fr...   \n17172  Flex time or a flexible schedule;Remote work o...   \n53442  Financial performance or funding status of the...   \n7010   Flex time or a flexible schedule;Office enviro...   \n22674  Flex time or a flexible schedule;Office enviro...   \n8444   Languages, frameworks, and other technologies ...   \n3093   Flex time or a flexible schedule;Remote work o...   \n\n                                             NEWOvertime             NEWEdImpt  \n49857  Occasionally: 1-2 days per quarter but less th...    Somewhat important  \n17172                   Often: 1-2 days per week or more        Very important  \n53442                                                NaN                   NaN  \n7010                   Rarely: 1-2 days per year or less      Fairly important  \n22674  Sometimes: 1-2 days per month but less than we...  Critically important  \n8444                   Rarely: 1-2 days per year or less    Somewhat important  \n3093                   Rarely: 1-2 days per year or less    Somewhat important  ",
      "text/html": "<div>\n<style scoped>\n    .dataframe tbody tr th:only-of-type {\n        vertical-align: middle;\n    }\n\n    .dataframe tbody tr th {\n        vertical-align: top;\n    }\n\n    .dataframe thead th {\n        text-align: right;\n    }\n</style>\n<table border=\"1\" class=\"dataframe\">\n  <thead>\n    <tr style=\"text-align: right;\">\n      <th></th>\n      <th>Country</th>\n      <th>Age</th>\n      <th>Gender</th>\n      <th>EdLevel</th>\n      <th>UndergradMajor</th>\n      <th>Hobbyist</th>\n      <th>Age1stCode</th>\n      <th>YearsCode</th>\n      <th>YearsCodePro</th>\n      <th>LanguageWorkedWith</th>\n      <th>LanguageDesireNextYear</th>\n      <th>NEWLearn</th>\n      <th>NEWStuck</th>\n      <th>Employment</th>\n      <th>DevType</th>\n      <th>WorkWeekHrs</th>\n      <th>JobSat</th>\n      <th>JobFactors</th>\n      <th>NEWOvertime</th>\n      <th>NEWEdImpt</th>\n    </tr>\n  </thead>\n  <tbody>\n    <tr>\n      <th>49857</th>\n      <td>United States</td>\n      <td>26.0</td>\n      <td>Man</td>\n      <td>Some college/university study without earning ...</td>\n      <td>Computer science, computer engineering, or sof...</td>\n      <td>Yes</td>\n      <td>13.0</td>\n      <td>13.0</td>\n      <td>5.0</td>\n      <td>C#;C++</td>\n      <td>C#;C++;JavaScript;Rust</td>\n      <td>Every few months</td>\n      <td>Call a coworker or friend;Visit Stack Overflow...</td>\n      <td>Employed full-time</td>\n      <td>Developer, back-end;Developer, front-end;Devel...</td>\n      <td>45.0</td>\n      <td>Neither satisfied nor dissatisfied</td>\n      <td>Flex time or a flexible schedule;Languages, fr...</td>\n      <td>Occasionally: 1-2 days per quarter but less th...</td>\n      <td>Somewhat important</td>\n    </tr>\n    <tr>\n      <th>17172</th>\n      <td>Sri Lanka</td>\n      <td>23.0</td>\n      <td>Man</td>\n      <td>Bachelor’s degree (B.A., B.S., B.Eng., etc.)</td>\n      <td>Computer science, computer engineering, or sof...</td>\n      <td>Yes</td>\n      <td>15.0</td>\n      <td>5.0</td>\n      <td>2.0</td>\n      <td>HTML/CSS;Java;JavaScript;PHP;SQL;TypeScript</td>\n      <td>Go;HTML/CSS;Java;JavaScript;Kotlin;PHP;Python;...</td>\n      <td>Once a year</td>\n      <td>Play games;Call a coworker or friend;Visit Sta...</td>\n      <td>Employed full-time</td>\n      <td>Developer, full-stack</td>\n      <td>40.0</td>\n      <td>Very satisfied</td>\n      <td>Flex time or a flexible schedule;Remote work o...</td>\n      <td>Often: 1-2 days per week or more</td>\n      <td>Very important</td>\n    </tr>\n    <tr>\n      <th>53442</th>\n      <td>Malaysia</td>\n      <td>NaN</td>\n      <td>Man</td>\n      <td>Bachelor’s degree (B.A., B.S., B.Eng., etc.)</td>\n      <td>Information systems, information technology, o...</td>\n      <td>Yes</td>\n      <td>18.0</td>\n      <td>4.0</td>\n      <td>NaN</td>\n      <td>C;Java;JavaScript;Kotlin;PHP;SQL</td>\n      <td>JavaScript;Kotlin;PHP</td>\n      <td>Every few months</td>\n      <td>Visit Stack Overflow;Watch help / tutorial videos</td>\n      <td>Student</td>\n      <td>NaN</td>\n      <td>NaN</td>\n      <td>NaN</td>\n      <td>Financial performance or funding status of the...</td>\n      <td>NaN</td>\n      <td>NaN</td>\n    </tr>\n    <tr>\n      <th>7010</th>\n      <td>Romania</td>\n      <td>29.0</td>\n      <td>Man</td>\n      <td>Master’s degree (M.A., M.S., M.Eng., MBA, etc.)</td>\n      <td>Computer science, computer engineering, or sof...</td>\n      <td>No</td>\n      <td>14.0</td>\n      <td>13.0</td>\n      <td>6.0</td>\n      <td>HTML/CSS;JavaScript</td>\n      <td>HTML/CSS;JavaScript</td>\n      <td>Once every few years</td>\n      <td>Meditate;Call a coworker or friend;Visit Stack...</td>\n      <td>Employed full-time</td>\n      <td>Developer, front-end</td>\n      <td>40.0</td>\n      <td>Slightly satisfied</td>\n      <td>Flex time or a flexible schedule;Office enviro...</td>\n      <td>Rarely: 1-2 days per year or less</td>\n      <td>Fairly important</td>\n    </tr>\n    <tr>\n      <th>22674</th>\n      <td>India</td>\n      <td>NaN</td>\n      <td>Man</td>\n      <td>Master’s degree (M.A., M.S., M.Eng., MBA, etc.)</td>\n      <td>Computer science, computer engineering, or sof...</td>\n      <td>Yes</td>\n      <td>20.0</td>\n      <td>12.0</td>\n      <td>9.0</td>\n      <td>C;C++;Java</td>\n      <td>Kotlin</td>\n      <td>Once every few years</td>\n      <td>Visit Stack Overflow</td>\n      <td>Employed full-time</td>\n      <td>Developer, mobile</td>\n      <td>NaN</td>\n      <td>Very satisfied</td>\n      <td>Flex time or a flexible schedule;Office enviro...</td>\n      <td>Sometimes: 1-2 days per month but less than we...</td>\n      <td>Critically important</td>\n    </tr>\n    <tr>\n      <th>8444</th>\n      <td>India</td>\n      <td>21.0</td>\n      <td>Man</td>\n      <td>Bachelor’s degree (B.A., B.S., B.Eng., etc.)</td>\n      <td>Computer science, computer engineering, or sof...</td>\n      <td>Yes</td>\n      <td>15.0</td>\n      <td>5.0</td>\n      <td>1.0</td>\n      <td>C#;Go;Python</td>\n      <td>JavaScript</td>\n      <td>Every few months</td>\n      <td>Call a coworker or friend;Visit Stack Overflow</td>\n      <td>Employed full-time</td>\n      <td>Developer, back-end;Developer, desktop or ente...</td>\n      <td>48.0</td>\n      <td>Very satisfied</td>\n      <td>Languages, frameworks, and other technologies ...</td>\n      <td>Rarely: 1-2 days per year or less</td>\n      <td>Somewhat important</td>\n    </tr>\n    <tr>\n      <th>3093</th>\n      <td>Canada</td>\n      <td>31.0</td>\n      <td>Man</td>\n      <td>Associate degree (A.A., A.S., etc.)</td>\n      <td>Computer science, computer engineering, or sof...</td>\n      <td>Yes</td>\n      <td>14.0</td>\n      <td>6.0</td>\n      <td>2.0</td>\n      <td>C#;JavaScript</td>\n      <td>C++</td>\n      <td>Once a year</td>\n      <td>Call a coworker or friend;Visit Stack Overflow...</td>\n      <td>Employed full-time</td>\n      <td>Developer, back-end;Developer, full-stack</td>\n      <td>40.0</td>\n      <td>Slightly satisfied</td>\n      <td>Flex time or a flexible schedule;Remote work o...</td>\n      <td>Rarely: 1-2 days per year or less</td>\n      <td>Somewhat important</td>\n    </tr>\n  </tbody>\n</table>\n</div>"
     },
     "execution_count": 30,
     "metadata": {},
     "output_type": "execute_result"
    }
   ],
   "source": [
    "survey_df.sample(7)"
   ],
   "metadata": {
    "collapsed": false,
    "ExecuteTime": {
     "end_time": "2023-09-06T18:02:40.595040100Z",
     "start_time": "2023-09-06T18:02:40.566971Z"
    }
   },
   "id": "4d5b383bc94cae16"
  },
  {
   "cell_type": "code",
   "execution_count": null,
   "outputs": [],
   "source": [],
   "metadata": {
    "collapsed": false
   },
   "id": "27250ba1f9bb5526"
  }
 ],
 "metadata": {
  "kernelspec": {
   "display_name": "Python 3",
   "language": "python",
   "name": "python3"
  },
  "language_info": {
   "codemirror_mode": {
    "name": "ipython",
    "version": 2
   },
   "file_extension": ".py",
   "mimetype": "text/x-python",
   "name": "python",
   "nbconvert_exporter": "python",
   "pygments_lexer": "ipython2",
   "version": "2.7.6"
  }
 },
 "nbformat": 4,
 "nbformat_minor": 5
}
